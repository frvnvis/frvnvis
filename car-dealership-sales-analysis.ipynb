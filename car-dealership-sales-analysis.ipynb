{
 "cells": [
  {
   "cell_type": "code",
   "execution_count": 1,
   "id": "131201bc",
   "metadata": {
    "execution": {
     "iopub.execute_input": "2022-05-17T06:48:47.963617Z",
     "iopub.status.busy": "2022-05-17T06:48:47.962881Z",
     "iopub.status.idle": "2022-05-17T06:48:47.975124Z",
     "shell.execute_reply": "2022-05-17T06:48:47.974420Z"
    },
    "papermill": {
     "duration": 0.043072,
     "end_time": "2022-05-17T06:48:47.977050",
     "exception": false,
     "start_time": "2022-05-17T06:48:47.933978",
     "status": "completed"
    },
    "tags": []
   },
   "outputs": [],
   "source": [
    "import pandas as pd\n",
    "import matplotlib.pyplot as plt\n",
    "import numpy as np\n",
    "import os"
   ]
  },
  {
   "cell_type": "code",
   "execution_count": 2,
   "id": "79a43526",
   "metadata": {
    "execution": {
     "iopub.execute_input": "2022-05-17T06:48:48.029843Z",
     "iopub.status.busy": "2022-05-17T06:48:48.029312Z",
     "iopub.status.idle": "2022-05-17T06:48:48.095941Z",
     "shell.execute_reply": "2022-05-17T06:48:48.095330Z"
    },
    "papermill": {
     "duration": 0.095673,
     "end_time": "2022-05-17T06:48:48.098196",
     "exception": false,
     "start_time": "2022-05-17T06:48:48.002523",
     "status": "completed"
    },
    "tags": []
   },
   "outputs": [
    {
     "data": {
      "text/html": [
       "<div>\n",
       "<style scoped>\n",
       "    .dataframe tbody tr th:only-of-type {\n",
       "        vertical-align: middle;\n",
       "    }\n",
       "\n",
       "    .dataframe tbody tr th {\n",
       "        vertical-align: top;\n",
       "    }\n",
       "\n",
       "    .dataframe thead th {\n",
       "        text-align: right;\n",
       "    }\n",
       "</style>\n",
       "<table border=\"1\" class=\"dataframe\">\n",
       "  <thead>\n",
       "    <tr style=\"text-align: right;\">\n",
       "      <th></th>\n",
       "      <th>ORDERNUMBER</th>\n",
       "      <th>QUANTITYORDERED</th>\n",
       "      <th>PRICEEACH</th>\n",
       "      <th>ORDERLINENUMBER</th>\n",
       "      <th>SALES</th>\n",
       "      <th>ORDERDATE</th>\n",
       "      <th>STATUS</th>\n",
       "      <th>QTR_ID</th>\n",
       "      <th>MONTH_ID</th>\n",
       "      <th>YEAR_ID</th>\n",
       "      <th>...</th>\n",
       "      <th>ADDRESSLINE1</th>\n",
       "      <th>ADDRESSLINE2</th>\n",
       "      <th>CITY</th>\n",
       "      <th>STATE</th>\n",
       "      <th>POSTALCODE</th>\n",
       "      <th>COUNTRY</th>\n",
       "      <th>TERRITORY</th>\n",
       "      <th>CONTACTLASTNAME</th>\n",
       "      <th>CONTACTFIRSTNAME</th>\n",
       "      <th>DEALSIZE</th>\n",
       "    </tr>\n",
       "  </thead>\n",
       "  <tbody>\n",
       "    <tr>\n",
       "      <th>0</th>\n",
       "      <td>10107</td>\n",
       "      <td>30</td>\n",
       "      <td>95.70</td>\n",
       "      <td>2</td>\n",
       "      <td>2871.0</td>\n",
       "      <td>2/24/2003 0:00</td>\n",
       "      <td>Shipped</td>\n",
       "      <td>1</td>\n",
       "      <td>2</td>\n",
       "      <td>2003</td>\n",
       "      <td>...</td>\n",
       "      <td>897 Long Airport Avenue</td>\n",
       "      <td>NaN</td>\n",
       "      <td>NYC</td>\n",
       "      <td>NY</td>\n",
       "      <td>10022</td>\n",
       "      <td>USA</td>\n",
       "      <td>NaN</td>\n",
       "      <td>Yu</td>\n",
       "      <td>Kwai</td>\n",
       "      <td>Small</td>\n",
       "    </tr>\n",
       "    <tr>\n",
       "      <th>1</th>\n",
       "      <td>10121</td>\n",
       "      <td>34</td>\n",
       "      <td>81.35</td>\n",
       "      <td>5</td>\n",
       "      <td>2765.9</td>\n",
       "      <td>5/7/2003 0:00</td>\n",
       "      <td>Shipped</td>\n",
       "      <td>2</td>\n",
       "      <td>5</td>\n",
       "      <td>2003</td>\n",
       "      <td>...</td>\n",
       "      <td>59 rue de l'Abbaye</td>\n",
       "      <td>NaN</td>\n",
       "      <td>Reims</td>\n",
       "      <td>NaN</td>\n",
       "      <td>51100</td>\n",
       "      <td>France</td>\n",
       "      <td>EMEA</td>\n",
       "      <td>Henriot</td>\n",
       "      <td>Paul</td>\n",
       "      <td>Small</td>\n",
       "    </tr>\n",
       "  </tbody>\n",
       "</table>\n",
       "<p>2 rows × 25 columns</p>\n",
       "</div>"
      ],
      "text/plain": [
       "   ORDERNUMBER  QUANTITYORDERED  PRICEEACH  ORDERLINENUMBER   SALES  \\\n",
       "0        10107               30      95.70                2  2871.0   \n",
       "1        10121               34      81.35                5  2765.9   \n",
       "\n",
       "        ORDERDATE   STATUS  QTR_ID  MONTH_ID  YEAR_ID  ...  \\\n",
       "0  2/24/2003 0:00  Shipped       1         2     2003  ...   \n",
       "1   5/7/2003 0:00  Shipped       2         5     2003  ...   \n",
       "\n",
       "              ADDRESSLINE1  ADDRESSLINE2   CITY STATE POSTALCODE COUNTRY  \\\n",
       "0  897 Long Airport Avenue           NaN    NYC    NY      10022     USA   \n",
       "1       59 rue de l'Abbaye           NaN  Reims   NaN      51100  France   \n",
       "\n",
       "  TERRITORY CONTACTLASTNAME CONTACTFIRSTNAME DEALSIZE  \n",
       "0       NaN              Yu             Kwai    Small  \n",
       "1      EMEA         Henriot             Paul    Small  \n",
       "\n",
       "[2 rows x 25 columns]"
      ]
     },
     "execution_count": 2,
     "metadata": {},
     "output_type": "execute_result"
    }
   ],
   "source": [
    "#Reading csv file\n",
    "\n",
    "cars = pd.read_csv('../input/cars-dealership-sales/cars_sales_data.csv', encoding='ISO-8859-1')\n",
    "cars.head(2)"
   ]
  },
  {
   "cell_type": "markdown",
   "id": "1a11e1d9",
   "metadata": {
    "papermill": {
     "duration": 0.025775,
     "end_time": "2022-05-17T06:48:48.150254",
     "exception": false,
     "start_time": "2022-05-17T06:48:48.124479",
     "status": "completed"
    },
    "tags": []
   },
   "source": [
    "# "
   ]
  },
  {
   "cell_type": "markdown",
   "id": "dece11d5",
   "metadata": {
    "papermill": {
     "duration": 0.025458,
     "end_time": "2022-05-17T06:48:48.201696",
     "exception": false,
     "start_time": "2022-05-17T06:48:48.176238",
     "status": "completed"
    },
    "tags": []
   },
   "source": [
    "## TASK 1: WHICH YEAR HAD BEST SALES?"
   ]
  },
  {
   "cell_type": "code",
   "execution_count": 3,
   "id": "a56332ea",
   "metadata": {
    "execution": {
     "iopub.execute_input": "2022-05-17T06:48:48.255003Z",
     "iopub.status.busy": "2022-05-17T06:48:48.254498Z",
     "iopub.status.idle": "2022-05-17T06:48:48.276726Z",
     "shell.execute_reply": "2022-05-17T06:48:48.276105Z"
    },
    "papermill": {
     "duration": 0.051031,
     "end_time": "2022-05-17T06:48:48.278504",
     "exception": false,
     "start_time": "2022-05-17T06:48:48.227473",
     "status": "completed"
    },
    "tags": []
   },
   "outputs": [
    {
     "data": {
      "text/html": [
       "<div>\n",
       "<style scoped>\n",
       "    .dataframe tbody tr th:only-of-type {\n",
       "        vertical-align: middle;\n",
       "    }\n",
       "\n",
       "    .dataframe tbody tr th {\n",
       "        vertical-align: top;\n",
       "    }\n",
       "\n",
       "    .dataframe thead th {\n",
       "        text-align: right;\n",
       "    }\n",
       "</style>\n",
       "<table border=\"1\" class=\"dataframe\">\n",
       "  <thead>\n",
       "    <tr style=\"text-align: right;\">\n",
       "      <th></th>\n",
       "      <th>ORDERNUMBER</th>\n",
       "      <th>QUANTITYORDERED</th>\n",
       "      <th>PRICEEACH</th>\n",
       "      <th>ORDERLINENUMBER</th>\n",
       "      <th>SALES</th>\n",
       "      <th>QTR_ID</th>\n",
       "      <th>MONTH_ID</th>\n",
       "      <th>MSRP</th>\n",
       "    </tr>\n",
       "    <tr>\n",
       "      <th>YEAR_ID</th>\n",
       "      <th></th>\n",
       "      <th></th>\n",
       "      <th></th>\n",
       "      <th></th>\n",
       "      <th></th>\n",
       "      <th></th>\n",
       "      <th></th>\n",
       "      <th></th>\n",
       "    </tr>\n",
       "  </thead>\n",
       "  <tbody>\n",
       "    <tr>\n",
       "      <th>2003</th>\n",
       "      <td>10158099</td>\n",
       "      <td>34612</td>\n",
       "      <td>83793.14</td>\n",
       "      <td>6709</td>\n",
       "      <td>3516979.54</td>\n",
       "      <td>3102</td>\n",
       "      <td>8243</td>\n",
       "      <td>101589</td>\n",
       "    </tr>\n",
       "    <tr>\n",
       "      <th>2004</th>\n",
       "      <td>13834764</td>\n",
       "      <td>46824</td>\n",
       "      <td>112488.10</td>\n",
       "      <td>8690</td>\n",
       "      <td>4724162.60</td>\n",
       "      <td>3916</td>\n",
       "      <td>10344</td>\n",
       "      <td>134851</td>\n",
       "    </tr>\n",
       "    <tr>\n",
       "      <th>2005</th>\n",
       "      <td>4967518</td>\n",
       "      <td>17631</td>\n",
       "      <td>39886.83</td>\n",
       "      <td>2855</td>\n",
       "      <td>1791486.71</td>\n",
       "      <td>654</td>\n",
       "      <td>1435</td>\n",
       "      <td>47880</td>\n",
       "    </tr>\n",
       "  </tbody>\n",
       "</table>\n",
       "</div>"
      ],
      "text/plain": [
       "         ORDERNUMBER  QUANTITYORDERED  PRICEEACH  ORDERLINENUMBER       SALES  \\\n",
       "YEAR_ID                                                                         \n",
       "2003        10158099            34612   83793.14             6709  3516979.54   \n",
       "2004        13834764            46824  112488.10             8690  4724162.60   \n",
       "2005         4967518            17631   39886.83             2855  1791486.71   \n",
       "\n",
       "         QTR_ID  MONTH_ID    MSRP  \n",
       "YEAR_ID                            \n",
       "2003       3102      8243  101589  \n",
       "2004       3916     10344  134851  \n",
       "2005        654      1435   47880  "
      ]
     },
     "execution_count": 3,
     "metadata": {},
     "output_type": "execute_result"
    }
   ],
   "source": [
    "results = cars.groupby('YEAR_ID').sum()\n",
    "results"
   ]
  },
  {
   "cell_type": "markdown",
   "id": "539f8527",
   "metadata": {
    "papermill": {
     "duration": 0.026328,
     "end_time": "2022-05-17T06:48:48.331095",
     "exception": false,
     "start_time": "2022-05-17T06:48:48.304767",
     "status": "completed"
    },
    "tags": []
   },
   "source": [
    "###### Year 2004 had best sales"
   ]
  },
  {
   "cell_type": "code",
   "execution_count": 4,
   "id": "a93c1bac",
   "metadata": {
    "execution": {
     "iopub.execute_input": "2022-05-17T06:48:48.387270Z",
     "iopub.status.busy": "2022-05-17T06:48:48.386507Z",
     "iopub.status.idle": "2022-05-17T06:48:48.532806Z",
     "shell.execute_reply": "2022-05-17T06:48:48.531931Z"
    },
    "papermill": {
     "duration": 0.176775,
     "end_time": "2022-05-17T06:48:48.535786",
     "exception": false,
     "start_time": "2022-05-17T06:48:48.359011",
     "status": "completed"
    },
    "tags": []
   },
   "outputs": [
    {
     "data": {
      "image/png": "[encoded data removed]",
      "text/plain": [
       "<Figure size 576x432 with 1 Axes>"
      ]
     },
     "metadata": {
      "needs_background": "light"
     },
     "output_type": "display_data"
    }
   ],
   "source": [
    "results = cars.groupby('YEAR_ID').sum()\n",
    "years = (2003, 2004, 2005)\n",
    "plt.figure(figsize=(8,6))\n",
    "plt.bar(years, results['SALES'])\n",
    "\n",
    "plt.xticks(years)\n",
    "\n",
    "plt.show()"
   ]
  },
  {
   "cell_type": "markdown",
   "id": "8fba13c7",
   "metadata": {
    "papermill": {
     "duration": 0.027462,
     "end_time": "2022-05-17T06:48:48.595651",
     "exception": false,
     "start_time": "2022-05-17T06:48:48.568189",
     "status": "completed"
    },
    "tags": []
   },
   "source": [
    "###### The graph shows 2004 had best sales number than 2003 but there is a shard drop in 2005"
   ]
  },
  {
   "cell_type": "markdown",
   "id": "8f06231a",
   "metadata": {
    "papermill": {
     "duration": 0.037074,
     "end_time": "2022-05-17T06:48:48.659765",
     "exception": false,
     "start_time": "2022-05-17T06:48:48.622691",
     "status": "completed"
    },
    "tags": []
   },
   "source": [
    "# "
   ]
  },
  {
   "cell_type": "markdown",
   "id": "2bc09069",
   "metadata": {
    "papermill": {
     "duration": 0.026968,
     "end_time": "2022-05-17T06:48:48.715403",
     "exception": false,
     "start_time": "2022-05-17T06:48:48.688435",
     "status": "completed"
    },
    "tags": []
   },
   "source": [
    "## TASK 2: WHICH COUNTRY HAD THE BEST NUMBER OF SALES?"
   ]
  },
  {
   "cell_type": "code",
   "execution_count": 5,
   "id": "7f770798",
   "metadata": {
    "execution": {
     "iopub.execute_input": "2022-05-17T06:48:48.773522Z",
     "iopub.status.busy": "2022-05-17T06:48:48.772974Z",
     "iopub.status.idle": "2022-05-17T06:48:48.794081Z",
     "shell.execute_reply": "2022-05-17T06:48:48.793434Z"
    },
    "papermill": {
     "duration": 0.052403,
     "end_time": "2022-05-17T06:48:48.796038",
     "exception": false,
     "start_time": "2022-05-17T06:48:48.743635",
     "status": "completed"
    },
    "tags": []
   },
   "outputs": [
    {
     "data": {
      "text/html": [
       "<div>\n",
       "<style scoped>\n",
       "    .dataframe tbody tr th:only-of-type {\n",
       "        vertical-align: middle;\n",
       "    }\n",
       "\n",
       "    .dataframe tbody tr th {\n",
       "        vertical-align: top;\n",
       "    }\n",
       "\n",
       "    .dataframe thead th {\n",
       "        text-align: right;\n",
       "    }\n",
       "</style>\n",
       "<table border=\"1\" class=\"dataframe\">\n",
       "  <thead>\n",
       "    <tr style=\"text-align: right;\">\n",
       "      <th></th>\n",
       "      <th>ORDERNUMBER</th>\n",
       "      <th>QUANTITYORDERED</th>\n",
       "      <th>PRICEEACH</th>\n",
       "      <th>ORDERLINENUMBER</th>\n",
       "      <th>SALES</th>\n",
       "      <th>QTR_ID</th>\n",
       "      <th>MONTH_ID</th>\n",
       "      <th>YEAR_ID</th>\n",
       "      <th>MSRP</th>\n",
       "    </tr>\n",
       "    <tr>\n",
       "      <th>COUNTRY</th>\n",
       "      <th></th>\n",
       "      <th></th>\n",
       "      <th></th>\n",
       "      <th></th>\n",
       "      <th></th>\n",
       "      <th></th>\n",
       "      <th></th>\n",
       "      <th></th>\n",
       "      <th></th>\n",
       "    </tr>\n",
       "  </thead>\n",
       "  <tbody>\n",
       "    <tr>\n",
       "      <th>Australia</th>\n",
       "      <td>1898841</td>\n",
       "      <td>6246</td>\n",
       "      <td>15449.14</td>\n",
       "      <td>1181</td>\n",
       "      <td>630623.10</td>\n",
       "      <td>511</td>\n",
       "      <td>1345</td>\n",
       "      <td>370706</td>\n",
       "      <td>18493</td>\n",
       "    </tr>\n",
       "    <tr>\n",
       "      <th>Austria</th>\n",
       "      <td>564648</td>\n",
       "      <td>1974</td>\n",
       "      <td>4759.16</td>\n",
       "      <td>320</td>\n",
       "      <td>202062.53</td>\n",
       "      <td>153</td>\n",
       "      <td>383</td>\n",
       "      <td>110211</td>\n",
       "      <td>5662</td>\n",
       "    </tr>\n",
       "    <tr>\n",
       "      <th>Belgium</th>\n",
       "      <td>339687</td>\n",
       "      <td>1074</td>\n",
       "      <td>2887.31</td>\n",
       "      <td>164</td>\n",
       "      <td>108412.62</td>\n",
       "      <td>80</td>\n",
       "      <td>188</td>\n",
       "      <td>66138</td>\n",
       "      <td>3335</td>\n",
       "    </tr>\n",
       "    <tr>\n",
       "      <th>Canada</th>\n",
       "      <td>719223</td>\n",
       "      <td>2293</td>\n",
       "      <td>5957.05</td>\n",
       "      <td>415</td>\n",
       "      <td>224078.56</td>\n",
       "      <td>206</td>\n",
       "      <td>545</td>\n",
       "      <td>140274</td>\n",
       "      <td>6941</td>\n",
       "    </tr>\n",
       "    <tr>\n",
       "      <th>Denmark</th>\n",
       "      <td>644467</td>\n",
       "      <td>2197</td>\n",
       "      <td>5503.89</td>\n",
       "      <td>399</td>\n",
       "      <td>245637.15</td>\n",
       "      <td>181</td>\n",
       "      <td>444</td>\n",
       "      <td>126228</td>\n",
       "      <td>6826</td>\n",
       "    </tr>\n",
       "    <tr>\n",
       "      <th>Finland</th>\n",
       "      <td>944808</td>\n",
       "      <td>3192</td>\n",
       "      <td>7722.15</td>\n",
       "      <td>587</td>\n",
       "      <td>329581.91</td>\n",
       "      <td>202</td>\n",
       "      <td>485</td>\n",
       "      <td>184374</td>\n",
       "      <td>9360</td>\n",
       "    </tr>\n",
       "    <tr>\n",
       "      <th>France</th>\n",
       "      <td>3223513</td>\n",
       "      <td>11090</td>\n",
       "      <td>25920.87</td>\n",
       "      <td>2028</td>\n",
       "      <td>1110916.52</td>\n",
       "      <td>776</td>\n",
       "      <td>1960</td>\n",
       "      <td>629233</td>\n",
       "      <td>31330</td>\n",
       "    </tr>\n",
       "    <tr>\n",
       "      <th>Germany</th>\n",
       "      <td>636423</td>\n",
       "      <td>2148</td>\n",
       "      <td>5184.30</td>\n",
       "      <td>388</td>\n",
       "      <td>220472.09</td>\n",
       "      <td>198</td>\n",
       "      <td>525</td>\n",
       "      <td>124227</td>\n",
       "      <td>6281</td>\n",
       "    </tr>\n",
       "    <tr>\n",
       "      <th>Ireland</th>\n",
       "      <td>164059</td>\n",
       "      <td>490</td>\n",
       "      <td>1377.98</td>\n",
       "      <td>73</td>\n",
       "      <td>57756.43</td>\n",
       "      <td>30</td>\n",
       "      <td>81</td>\n",
       "      <td>32064</td>\n",
       "      <td>1710</td>\n",
       "    </tr>\n",
       "    <tr>\n",
       "      <th>Italy</th>\n",
       "      <td>1158239</td>\n",
       "      <td>3773</td>\n",
       "      <td>9329.40</td>\n",
       "      <td>890</td>\n",
       "      <td>374674.31</td>\n",
       "      <td>329</td>\n",
       "      <td>868</td>\n",
       "      <td>226422</td>\n",
       "      <td>11119</td>\n",
       "    </tr>\n",
       "    <tr>\n",
       "      <th>Japan</th>\n",
       "      <td>535018</td>\n",
       "      <td>1842</td>\n",
       "      <td>4290.26</td>\n",
       "      <td>362</td>\n",
       "      <td>188167.81</td>\n",
       "      <td>110</td>\n",
       "      <td>254</td>\n",
       "      <td>104218</td>\n",
       "      <td>5210</td>\n",
       "    </tr>\n",
       "    <tr>\n",
       "      <th>Norway</th>\n",
       "      <td>869325</td>\n",
       "      <td>2842</td>\n",
       "      <td>7318.18</td>\n",
       "      <td>559</td>\n",
       "      <td>307463.70</td>\n",
       "      <td>275</td>\n",
       "      <td>710</td>\n",
       "      <td>170287</td>\n",
       "      <td>8956</td>\n",
       "    </tr>\n",
       "    <tr>\n",
       "      <th>Philippines</th>\n",
       "      <td>264236</td>\n",
       "      <td>961</td>\n",
       "      <td>2144.99</td>\n",
       "      <td>167</td>\n",
       "      <td>94015.73</td>\n",
       "      <td>56</td>\n",
       "      <td>158</td>\n",
       "      <td>52082</td>\n",
       "      <td>2547</td>\n",
       "    </tr>\n",
       "    <tr>\n",
       "      <th>Singapore</th>\n",
       "      <td>806424</td>\n",
       "      <td>2760</td>\n",
       "      <td>6581.90</td>\n",
       "      <td>544</td>\n",
       "      <td>288488.41</td>\n",
       "      <td>212</td>\n",
       "      <td>564</td>\n",
       "      <td>158278</td>\n",
       "      <td>8378</td>\n",
       "    </tr>\n",
       "    <tr>\n",
       "      <th>Spain</th>\n",
       "      <td>3513645</td>\n",
       "      <td>12429</td>\n",
       "      <td>28042.54</td>\n",
       "      <td>2186</td>\n",
       "      <td>1215686.92</td>\n",
       "      <td>859</td>\n",
       "      <td>2299</td>\n",
       "      <td>685341</td>\n",
       "      <td>33201</td>\n",
       "    </tr>\n",
       "    <tr>\n",
       "      <th>Sweden</th>\n",
       "      <td>585642</td>\n",
       "      <td>2006</td>\n",
       "      <td>4943.51</td>\n",
       "      <td>337</td>\n",
       "      <td>210014.21</td>\n",
       "      <td>184</td>\n",
       "      <td>503</td>\n",
       "      <td>114218</td>\n",
       "      <td>5973</td>\n",
       "    </tr>\n",
       "    <tr>\n",
       "      <th>Switzerland</th>\n",
       "      <td>318029</td>\n",
       "      <td>1078</td>\n",
       "      <td>2713.09</td>\n",
       "      <td>258</td>\n",
       "      <td>117713.56</td>\n",
       "      <td>65</td>\n",
       "      <td>164</td>\n",
       "      <td>62124</td>\n",
       "      <td>3583</td>\n",
       "    </tr>\n",
       "    <tr>\n",
       "      <th>UK</th>\n",
       "      <td>1476792</td>\n",
       "      <td>5013</td>\n",
       "      <td>11882.70</td>\n",
       "      <td>1027</td>\n",
       "      <td>478880.46</td>\n",
       "      <td>431</td>\n",
       "      <td>1166</td>\n",
       "      <td>288533</td>\n",
       "      <td>13876</td>\n",
       "    </tr>\n",
       "    <tr>\n",
       "      <th>USA</th>\n",
       "      <td>10297362</td>\n",
       "      <td>35659</td>\n",
       "      <td>84159.65</td>\n",
       "      <td>6369</td>\n",
       "      <td>3627982.83</td>\n",
       "      <td>2814</td>\n",
       "      <td>7380</td>\n",
       "      <td>2011812</td>\n",
       "      <td>101539</td>\n",
       "    </tr>\n",
       "  </tbody>\n",
       "</table>\n",
       "</div>"
      ],
      "text/plain": [
       "             ORDERNUMBER  QUANTITYORDERED  PRICEEACH  ORDERLINENUMBER  \\\n",
       "COUNTRY                                                                 \n",
       "Australia        1898841             6246   15449.14             1181   \n",
       "Austria           564648             1974    4759.16              320   \n",
       "Belgium           339687             1074    2887.31              164   \n",
       "Canada            719223             2293    5957.05              415   \n",
       "Denmark           644467             2197    5503.89              399   \n",
       "Finland           944808             3192    7722.15              587   \n",
       "France           3223513            11090   25920.87             2028   \n",
       "Germany           636423             2148    5184.30              388   \n",
       "Ireland           164059              490    1377.98               73   \n",
       "Italy            1158239             3773    9329.40              890   \n",
       "Japan             535018             1842    4290.26              362   \n",
       "Norway            869325             2842    7318.18              559   \n",
       "Philippines       264236              961    2144.99              167   \n",
       "Singapore         806424             2760    6581.90              544   \n",
       "Spain            3513645            12429   28042.54             2186   \n",
       "Sweden            585642             2006    4943.51              337   \n",
       "Switzerland       318029             1078    2713.09              258   \n",
       "UK               1476792             5013   11882.70             1027   \n",
       "USA             10297362            35659   84159.65             6369   \n",
       "\n",
       "                  SALES  QTR_ID  MONTH_ID  YEAR_ID    MSRP  \n",
       "COUNTRY                                                     \n",
       "Australia     630623.10     511      1345   370706   18493  \n",
       "Austria       202062.53     153       383   110211    5662  \n",
       "Belgium       108412.62      80       188    66138    3335  \n",
       "Canada        224078.56     206       545   140274    6941  \n",
       "Denmark       245637.15     181       444   126228    6826  \n",
       "Finland       329581.91     202       485   184374    9360  \n",
       "France       1110916.52     776      1960   629233   31330  \n",
       "Germany       220472.09     198       525   124227    6281  \n",
       "Ireland        57756.43      30        81    32064    1710  \n",
       "Italy         374674.31     329       868   226422   11119  \n",
       "Japan         188167.81     110       254   104218    5210  \n",
       "Norway        307463.70     275       710   170287    8956  \n",
       "Philippines    94015.73      56       158    52082    2547  \n",
       "Singapore     288488.41     212       564   158278    8378  \n",
       "Spain        1215686.92     859      2299   685341   33201  \n",
       "Sweden        210014.21     184       503   114218    5973  \n",
       "Switzerland   117713.56      65       164    62124    3583  \n",
       "UK            478880.46     431      1166   288533   13876  \n",
       "USA          3627982.83    2814      7380  2011812  101539  "
      ]
     },
     "execution_count": 5,
     "metadata": {},
     "output_type": "execute_result"
    }
   ],
   "source": [
    "carsgroup = cars.groupby('COUNTRY').sum()\n",
    "carsgroup"
   ]
  },
  {
   "cell_type": "markdown",
   "id": "c0281726",
   "metadata": {
    "papermill": {
     "duration": 0.027949,
     "end_time": "2022-05-17T06:48:48.852525",
     "exception": false,
     "start_time": "2022-05-17T06:48:48.824576",
     "status": "completed"
    },
    "tags": []
   },
   "source": [
    "###### lets try to graph this information to get a visual report for better understanding."
   ]
  },
  {
   "cell_type": "code",
   "execution_count": 6,
   "id": "cf7ce6af",
   "metadata": {
    "execution": {
     "iopub.execute_input": "2022-05-17T06:48:48.910297Z",
     "iopub.status.busy": "2022-05-17T06:48:48.909672Z",
     "iopub.status.idle": "2022-05-17T06:48:49.296844Z",
     "shell.execute_reply": "2022-05-17T06:48:49.296002Z"
    },
    "papermill": {
     "duration": 0.418728,
     "end_time": "2022-05-17T06:48:49.299239",
     "exception": false,
     "start_time": "2022-05-17T06:48:48.880511",
     "status": "completed"
    },
    "tags": []
   },
   "outputs": [
    {
     "data": {
      "image/png": "[encoded data removed]",
      "text/plain": [
       "<Figure size 576x432 with 1 Axes>"
      ]
     },
     "metadata": {
      "needs_background": "light"
     },
     "output_type": "display_data"
    }
   ],
   "source": [
    "carsgroup = cars.groupby('COUNTRY')\n",
    "sale = carsgroup.sum()['SALES']\n",
    "\n",
    "plt.figure(figsize=(8,6))\n",
    "countries = [buy for buy, df in carsgroup]\n",
    "plt.bar(countries, sale)\n",
    "\n",
    "plt.xticks(countries, rotation=90)\n",
    "plt.grid()\n",
    "plt.show()"
   ]
  },
  {
   "cell_type": "markdown",
   "id": "d3d28c70",
   "metadata": {
    "papermill": {
     "duration": 0.029364,
     "end_time": "2022-05-17T06:48:49.358408",
     "exception": false,
     "start_time": "2022-05-17T06:48:49.329044",
     "status": "completed"
    },
    "tags": []
   },
   "source": [
    "###### We advice to open stores in USA since it cover a large percentage of market share. Maybe and Spain and France."
   ]
  },
  {
   "cell_type": "markdown",
   "id": "ef58a3a3",
   "metadata": {
    "papermill": {
     "duration": 0.029495,
     "end_time": "2022-05-17T06:48:49.417260",
     "exception": false,
     "start_time": "2022-05-17T06:48:49.387765",
     "status": "completed"
    },
    "tags": []
   },
   "source": [
    "# "
   ]
  },
  {
   "cell_type": "markdown",
   "id": "5de5ee50",
   "metadata": {
    "papermill": {
     "duration": 0.028734,
     "end_time": "2022-05-17T06:48:49.475106",
     "exception": false,
     "start_time": "2022-05-17T06:48:49.446372",
     "status": "completed"
    },
    "tags": []
   },
   "source": [
    "## TASK 3: WHICH CITY SHOULD HAVE MORE STORE FOR CUSTOMERS REACHING?"
   ]
  },
  {
   "cell_type": "code",
   "execution_count": 7,
   "id": "7e565b29",
   "metadata": {
    "execution": {
     "iopub.execute_input": "2022-05-17T06:48:49.534830Z",
     "iopub.status.busy": "2022-05-17T06:48:49.534023Z",
     "iopub.status.idle": "2022-05-17T06:48:49.555124Z",
     "shell.execute_reply": "2022-05-17T06:48:49.554295Z"
    },
    "papermill": {
     "duration": 0.053405,
     "end_time": "2022-05-17T06:48:49.557208",
     "exception": false,
     "start_time": "2022-05-17T06:48:49.503803",
     "status": "completed"
    },
    "tags": []
   },
   "outputs": [
    {
     "data": {
      "text/html": [
       "<div>\n",
       "<style scoped>\n",
       "    .dataframe tbody tr th:only-of-type {\n",
       "        vertical-align: middle;\n",
       "    }\n",
       "\n",
       "    .dataframe tbody tr th {\n",
       "        vertical-align: top;\n",
       "    }\n",
       "\n",
       "    .dataframe thead th {\n",
       "        text-align: right;\n",
       "    }\n",
       "</style>\n",
       "<table border=\"1\" class=\"dataframe\">\n",
       "  <thead>\n",
       "    <tr style=\"text-align: right;\">\n",
       "      <th></th>\n",
       "      <th>ORDERNUMBER</th>\n",
       "      <th>QUANTITYORDERED</th>\n",
       "      <th>PRICEEACH</th>\n",
       "      <th>ORDERLINENUMBER</th>\n",
       "      <th>SALES</th>\n",
       "      <th>QTR_ID</th>\n",
       "      <th>MONTH_ID</th>\n",
       "      <th>YEAR_ID</th>\n",
       "      <th>MSRP</th>\n",
       "    </tr>\n",
       "    <tr>\n",
       "      <th>CITY</th>\n",
       "      <th></th>\n",
       "      <th></th>\n",
       "      <th></th>\n",
       "      <th></th>\n",
       "      <th></th>\n",
       "      <th></th>\n",
       "      <th></th>\n",
       "      <th></th>\n",
       "      <th></th>\n",
       "    </tr>\n",
       "  </thead>\n",
       "  <tbody>\n",
       "    <tr>\n",
       "      <th>Aaarhus</th>\n",
       "      <td>276642</td>\n",
       "      <td>882</td>\n",
       "      <td>2378.21</td>\n",
       "      <td>198</td>\n",
       "      <td>100595.55</td>\n",
       "      <td>108</td>\n",
       "      <td>270</td>\n",
       "      <td>54096</td>\n",
       "      <td>2995</td>\n",
       "    </tr>\n",
       "    <tr>\n",
       "      <th>Allentown</th>\n",
       "      <td>319272</td>\n",
       "      <td>1111</td>\n",
       "      <td>2662.14</td>\n",
       "      <td>174</td>\n",
       "      <td>122138.14</td>\n",
       "      <td>100</td>\n",
       "      <td>263</td>\n",
       "      <td>62126</td>\n",
       "      <td>3304</td>\n",
       "    </tr>\n",
       "    <tr>\n",
       "      <th>Barcelona</th>\n",
       "      <td>235596</td>\n",
       "      <td>882</td>\n",
       "      <td>1919.63</td>\n",
       "      <td>142</td>\n",
       "      <td>78411.86</td>\n",
       "      <td>90</td>\n",
       "      <td>246</td>\n",
       "      <td>46077</td>\n",
       "      <td>2003</td>\n",
       "    </tr>\n",
       "    <tr>\n",
       "      <th>Bergamo</th>\n",
       "      <td>489268</td>\n",
       "      <td>1650</td>\n",
       "      <td>3752.69</td>\n",
       "      <td>412</td>\n",
       "      <td>137955.72</td>\n",
       "      <td>138</td>\n",
       "      <td>366</td>\n",
       "      <td>96158</td>\n",
       "      <td>4116</td>\n",
       "    </tr>\n",
       "    <tr>\n",
       "      <th>Bergen</th>\n",
       "      <td>295737</td>\n",
       "      <td>973</td>\n",
       "      <td>2556.66</td>\n",
       "      <td>199</td>\n",
       "      <td>111640.28</td>\n",
       "      <td>112</td>\n",
       "      <td>311</td>\n",
       "      <td>58091</td>\n",
       "      <td>3183</td>\n",
       "    </tr>\n",
       "    <tr>\n",
       "      <th>...</th>\n",
       "      <td>...</td>\n",
       "      <td>...</td>\n",
       "      <td>...</td>\n",
       "      <td>...</td>\n",
       "      <td>...</td>\n",
       "      <td>...</td>\n",
       "      <td>...</td>\n",
       "      <td>...</td>\n",
       "      <td>...</td>\n",
       "    </tr>\n",
       "    <tr>\n",
       "      <th>Toulouse</th>\n",
       "      <td>204529</td>\n",
       "      <td>687</td>\n",
       "      <td>1701.95</td>\n",
       "      <td>99</td>\n",
       "      <td>70488.44</td>\n",
       "      <td>62</td>\n",
       "      <td>168</td>\n",
       "      <td>40070</td>\n",
       "      <td>1943</td>\n",
       "    </tr>\n",
       "    <tr>\n",
       "      <th>Tsawassen</th>\n",
       "      <td>266782</td>\n",
       "      <td>873</td>\n",
       "      <td>2165.00</td>\n",
       "      <td>183</td>\n",
       "      <td>74634.85</td>\n",
       "      <td>66</td>\n",
       "      <td>160</td>\n",
       "      <td>52104</td>\n",
       "      <td>2242</td>\n",
       "    </tr>\n",
       "    <tr>\n",
       "      <th>Vancouver</th>\n",
       "      <td>225709</td>\n",
       "      <td>703</td>\n",
       "      <td>1895.80</td>\n",
       "      <td>132</td>\n",
       "      <td>75238.92</td>\n",
       "      <td>88</td>\n",
       "      <td>242</td>\n",
       "      <td>44077</td>\n",
       "      <td>2341</td>\n",
       "    </tr>\n",
       "    <tr>\n",
       "      <th>Versailles</th>\n",
       "      <td>185384</td>\n",
       "      <td>637</td>\n",
       "      <td>1484.86</td>\n",
       "      <td>154</td>\n",
       "      <td>64834.32</td>\n",
       "      <td>69</td>\n",
       "      <td>172</td>\n",
       "      <td>36072</td>\n",
       "      <td>1807</td>\n",
       "    </tr>\n",
       "    <tr>\n",
       "      <th>White Plains</th>\n",
       "      <td>266878</td>\n",
       "      <td>929</td>\n",
       "      <td>2084.23</td>\n",
       "      <td>191</td>\n",
       "      <td>85555.99</td>\n",
       "      <td>104</td>\n",
       "      <td>270</td>\n",
       "      <td>52094</td>\n",
       "      <td>2465</td>\n",
       "    </tr>\n",
       "  </tbody>\n",
       "</table>\n",
       "<p>73 rows × 9 columns</p>\n",
       "</div>"
      ],
      "text/plain": [
       "              ORDERNUMBER  QUANTITYORDERED  PRICEEACH  ORDERLINENUMBER  \\\n",
       "CITY                                                                     \n",
       "Aaarhus            276642              882    2378.21              198   \n",
       "Allentown          319272             1111    2662.14              174   \n",
       "Barcelona          235596              882    1919.63              142   \n",
       "Bergamo            489268             1650    3752.69              412   \n",
       "Bergen             295737              973    2556.66              199   \n",
       "...                   ...              ...        ...              ...   \n",
       "Toulouse           204529              687    1701.95               99   \n",
       "Tsawassen          266782              873    2165.00              183   \n",
       "Vancouver          225709              703    1895.80              132   \n",
       "Versailles         185384              637    1484.86              154   \n",
       "White Plains       266878              929    2084.23              191   \n",
       "\n",
       "                  SALES  QTR_ID  MONTH_ID  YEAR_ID  MSRP  \n",
       "CITY                                                      \n",
       "Aaarhus       100595.55     108       270    54096  2995  \n",
       "Allentown     122138.14     100       263    62126  3304  \n",
       "Barcelona      78411.86      90       246    46077  2003  \n",
       "Bergamo       137955.72     138       366    96158  4116  \n",
       "Bergen        111640.28     112       311    58091  3183  \n",
       "...                 ...     ...       ...      ...   ...  \n",
       "Toulouse       70488.44      62       168    40070  1943  \n",
       "Tsawassen      74634.85      66       160    52104  2242  \n",
       "Vancouver      75238.92      88       242    44077  2341  \n",
       "Versailles     64834.32      69       172    36072  1807  \n",
       "White Plains   85555.99     104       270    52094  2465  \n",
       "\n",
       "[73 rows x 9 columns]"
      ]
     },
     "execution_count": 7,
     "metadata": {},
     "output_type": "execute_result"
    }
   ],
   "source": [
    "carscity = cars.groupby('CITY').sum()\n",
    "carscity"
   ]
  },
  {
   "cell_type": "code",
   "execution_count": 8,
   "id": "44da94af",
   "metadata": {
    "execution": {
     "iopub.execute_input": "2022-05-17T06:48:49.618702Z",
     "iopub.status.busy": "2022-05-17T06:48:49.617962Z",
     "iopub.status.idle": "2022-05-17T06:48:50.587749Z",
     "shell.execute_reply": "2022-05-17T06:48:50.586951Z"
    },
    "papermill": {
     "duration": 1.002678,
     "end_time": "2022-05-17T06:48:50.590024",
     "exception": false,
     "start_time": "2022-05-17T06:48:49.587346",
     "status": "completed"
    },
    "tags": []
   },
   "outputs": [
    {
     "data": {
      "image/png": "[encoded data removed]",
      "text/plain": [
       "<Figure size 1080x720 with 1 Axes>"
      ]
     },
     "metadata": {
      "needs_background": "light"
     },
     "output_type": "display_data"
    }
   ],
   "source": [
    "carscity = cars.groupby('CITY')\n",
    "carssale = carscity.sum()['SALES']\n",
    "\n",
    "cities = [city for city, df in carscity]\n",
    "\n",
    "plt.figure(figsize=(15,10))\n",
    "plt.xticks(rotation=90)\n",
    "plt.xlabel('CITY')\n",
    "plt.ylabel('SALES')\n",
    "\n",
    "plt.bar(cities, carssale)\n",
    "plt.show()"
   ]
  },
  {
   "cell_type": "markdown",
   "id": "3547a299",
   "metadata": {
    "papermill": {
     "duration": 0.031051,
     "end_time": "2022-05-17T06:48:50.652847",
     "exception": false,
     "start_time": "2022-05-17T06:48:50.621796",
     "status": "completed"
    },
    "tags": []
   },
   "source": [
    "###### MADRID, SAN RAFAEL & NYC has high sales. the company has to have more stores in this cities. also for BIG city with low number of sales like PARIS, BOSTON, NEW BREDFORD has to be done more advertisement and more sales packages to attract customers"
   ]
  },
  {
   "cell_type": "markdown",
   "id": "6c087178",
   "metadata": {
    "papermill": {
     "duration": 0.030959,
     "end_time": "2022-05-17T06:48:50.715504",
     "exception": false,
     "start_time": "2022-05-17T06:48:50.684545",
     "status": "completed"
    },
    "tags": []
   },
   "source": [
    "# "
   ]
  },
  {
   "cell_type": "markdown",
   "id": "b2080bde",
   "metadata": {
    "papermill": {
     "duration": 0.031284,
     "end_time": "2022-05-17T06:48:50.778461",
     "exception": false,
     "start_time": "2022-05-17T06:48:50.747177",
     "status": "completed"
    },
    "tags": []
   },
   "source": [
    "## TASK 4: WHICH PRODUCT SOLD MORE."
   ]
  },
  {
   "cell_type": "code",
   "execution_count": 9,
   "id": "bf64d219",
   "metadata": {
    "execution": {
     "iopub.execute_input": "2022-05-17T06:48:50.843695Z",
     "iopub.status.busy": "2022-05-17T06:48:50.843138Z",
     "iopub.status.idle": "2022-05-17T06:48:50.861019Z",
     "shell.execute_reply": "2022-05-17T06:48:50.860194Z"
    },
    "papermill": {
     "duration": 0.052972,
     "end_time": "2022-05-17T06:48:50.863063",
     "exception": false,
     "start_time": "2022-05-17T06:48:50.810091",
     "status": "completed"
    },
    "tags": []
   },
   "outputs": [
    {
     "data": {
      "text/html": [
       "<div>\n",
       "<style scoped>\n",
       "    .dataframe tbody tr th:only-of-type {\n",
       "        vertical-align: middle;\n",
       "    }\n",
       "\n",
       "    .dataframe tbody tr th {\n",
       "        vertical-align: top;\n",
       "    }\n",
       "\n",
       "    .dataframe thead th {\n",
       "        text-align: right;\n",
       "    }\n",
       "</style>\n",
       "<table border=\"1\" class=\"dataframe\">\n",
       "  <thead>\n",
       "    <tr style=\"text-align: right;\">\n",
       "      <th></th>\n",
       "      <th>ORDERNUMBER</th>\n",
       "      <th>QUANTITYORDERED</th>\n",
       "      <th>PRICEEACH</th>\n",
       "      <th>ORDERLINENUMBER</th>\n",
       "      <th>SALES</th>\n",
       "      <th>QTR_ID</th>\n",
       "      <th>MONTH_ID</th>\n",
       "      <th>YEAR_ID</th>\n",
       "      <th>MSRP</th>\n",
       "    </tr>\n",
       "    <tr>\n",
       "      <th>PRODUCTLINE</th>\n",
       "      <th></th>\n",
       "      <th></th>\n",
       "      <th></th>\n",
       "      <th></th>\n",
       "      <th></th>\n",
       "      <th></th>\n",
       "      <th></th>\n",
       "      <th></th>\n",
       "      <th></th>\n",
       "    </tr>\n",
       "  </thead>\n",
       "  <tbody>\n",
       "    <tr>\n",
       "      <th>Classic Cars</th>\n",
       "      <td>9918937</td>\n",
       "      <td>33992</td>\n",
       "      <td>84453.70</td>\n",
       "      <td>6233</td>\n",
       "      <td>3919615.66</td>\n",
       "      <td>2684</td>\n",
       "      <td>7003</td>\n",
       "      <td>1937661</td>\n",
       "      <td>115929</td>\n",
       "    </tr>\n",
       "    <tr>\n",
       "      <th>Motorcycles</th>\n",
       "      <td>3395505</td>\n",
       "      <td>11663</td>\n",
       "      <td>27472.19</td>\n",
       "      <td>1963</td>\n",
       "      <td>1166388.34</td>\n",
       "      <td>884</td>\n",
       "      <td>2275</td>\n",
       "      <td>663273</td>\n",
       "      <td>32130</td>\n",
       "    </tr>\n",
       "    <tr>\n",
       "      <th>Planes</th>\n",
       "      <td>3142556</td>\n",
       "      <td>10727</td>\n",
       "      <td>25012.72</td>\n",
       "      <td>2210</td>\n",
       "      <td>975003.57</td>\n",
       "      <td>800</td>\n",
       "      <td>2081</td>\n",
       "      <td>613199</td>\n",
       "      <td>27163</td>\n",
       "    </tr>\n",
       "    <tr>\n",
       "      <th>Ships</th>\n",
       "      <td>2399856</td>\n",
       "      <td>8127</td>\n",
       "      <td>19622.18</td>\n",
       "      <td>1591</td>\n",
       "      <td>714437.13</td>\n",
       "      <td>619</td>\n",
       "      <td>1622</td>\n",
       "      <td>468893</td>\n",
       "      <td>20154</td>\n",
       "    </tr>\n",
       "    <tr>\n",
       "      <th>Trains</th>\n",
       "      <td>789654</td>\n",
       "      <td>2712</td>\n",
       "      <td>5825.41</td>\n",
       "      <td>550</td>\n",
       "      <td>226243.47</td>\n",
       "      <td>209</td>\n",
       "      <td>549</td>\n",
       "      <td>154292</td>\n",
       "      <td>5620</td>\n",
       "    </tr>\n",
       "    <tr>\n",
       "      <th>Trucks and Buses</th>\n",
       "      <td>3087894</td>\n",
       "      <td>10777</td>\n",
       "      <td>26345.91</td>\n",
       "      <td>1873</td>\n",
       "      <td>1127789.84</td>\n",
       "      <td>837</td>\n",
       "      <td>2210</td>\n",
       "      <td>603143</td>\n",
       "      <td>30842</td>\n",
       "    </tr>\n",
       "    <tr>\n",
       "      <th>Vintage Cars</th>\n",
       "      <td>6225979</td>\n",
       "      <td>21069</td>\n",
       "      <td>47435.96</td>\n",
       "      <td>3834</td>\n",
       "      <td>1903150.84</td>\n",
       "      <td>1639</td>\n",
       "      <td>4282</td>\n",
       "      <td>1216309</td>\n",
       "      <td>52482</td>\n",
       "    </tr>\n",
       "  </tbody>\n",
       "</table>\n",
       "</div>"
      ],
      "text/plain": [
       "                  ORDERNUMBER  QUANTITYORDERED  PRICEEACH  ORDERLINENUMBER  \\\n",
       "PRODUCTLINE                                                                  \n",
       "Classic Cars          9918937            33992   84453.70             6233   \n",
       "Motorcycles           3395505            11663   27472.19             1963   \n",
       "Planes                3142556            10727   25012.72             2210   \n",
       "Ships                 2399856             8127   19622.18             1591   \n",
       "Trains                 789654             2712    5825.41              550   \n",
       "Trucks and Buses      3087894            10777   26345.91             1873   \n",
       "Vintage Cars          6225979            21069   47435.96             3834   \n",
       "\n",
       "                       SALES  QTR_ID  MONTH_ID  YEAR_ID    MSRP  \n",
       "PRODUCTLINE                                                      \n",
       "Classic Cars      3919615.66    2684      7003  1937661  115929  \n",
       "Motorcycles       1166388.34     884      2275   663273   32130  \n",
       "Planes             975003.57     800      2081   613199   27163  \n",
       "Ships              714437.13     619      1622   468893   20154  \n",
       "Trains             226243.47     209       549   154292    5620  \n",
       "Trucks and Buses  1127789.84     837      2210   603143   30842  \n",
       "Vintage Cars      1903150.84    1639      4282  1216309   52482  "
      ]
     },
     "execution_count": 9,
     "metadata": {},
     "output_type": "execute_result"
    }
   ],
   "source": [
    "carsgroup = cars.groupby('PRODUCTLINE').sum()\n",
    "carsgroup"
   ]
  },
  {
   "cell_type": "code",
   "execution_count": 10,
   "id": "23cca941",
   "metadata": {
    "execution": {
     "iopub.execute_input": "2022-05-17T06:48:50.928571Z",
     "iopub.status.busy": "2022-05-17T06:48:50.928305Z",
     "iopub.status.idle": "2022-05-17T06:48:51.124257Z",
     "shell.execute_reply": "2022-05-17T06:48:51.123338Z"
    },
    "papermill": {
     "duration": 0.231222,
     "end_time": "2022-05-17T06:48:51.126265",
     "exception": false,
     "start_time": "2022-05-17T06:48:50.895043",
     "status": "completed"
    },
    "tags": []
   },
   "outputs": [
    {
     "data": {
      "image/png": "[encoded data removed]",
      "text/plain": [
       "<Figure size 576x432 with 1 Axes>"
      ]
     },
     "metadata": {
      "needs_background": "light"
     },
     "output_type": "display_data"
    }
   ],
   "source": [
    "carsgroup = cars.groupby('PRODUCTLINE')\n",
    "quantity_ordered = cars.groupby('PRODUCTLINE').sum()['QUANTITYORDERED']\n",
    "\n",
    "products = [product for product, df in carsgroup]\n",
    "\n",
    "plt.figure(figsize=(8,6))\n",
    "plt.bar(products, quantity_ordered)\n",
    "\n",
    "plt.xticks(products, rotation=90)\n",
    "\n",
    "plt.show()\n"
   ]
  },
  {
   "cell_type": "markdown",
   "id": "6a9f7e45",
   "metadata": {
    "papermill": {
     "duration": 0.033221,
     "end_time": "2022-05-17T06:48:51.192822",
     "exception": false,
     "start_time": "2022-05-17T06:48:51.159601",
     "status": "completed"
    },
    "tags": []
   },
   "source": [
    "###### Classic cars has best number of sale because of price and availability."
   ]
  },
  {
   "cell_type": "markdown",
   "id": "fc7ad535",
   "metadata": {
    "papermill": {
     "duration": 0.033156,
     "end_time": "2022-05-17T06:48:51.259363",
     "exception": false,
     "start_time": "2022-05-17T06:48:51.226207",
     "status": "completed"
    },
    "tags": []
   },
   "source": [
    "# "
   ]
  },
  {
   "cell_type": "markdown",
   "id": "c32e0cb3",
   "metadata": {
    "papermill": {
     "duration": 0.032787,
     "end_time": "2022-05-17T06:48:51.325499",
     "exception": false,
     "start_time": "2022-05-17T06:48:51.292712",
     "status": "completed"
    },
    "tags": []
   },
   "source": [
    "## TASK 5: FIND PERCENTAGE OF DEALS SIZE."
   ]
  },
  {
   "cell_type": "code",
   "execution_count": 11,
   "id": "aa7a421e",
   "metadata": {
    "execution": {
     "iopub.execute_input": "2022-05-17T06:48:51.393669Z",
     "iopub.status.busy": "2022-05-17T06:48:51.393116Z",
     "iopub.status.idle": "2022-05-17T06:48:51.526305Z",
     "shell.execute_reply": "2022-05-17T06:48:51.525389Z"
    },
    "papermill": {
     "duration": 0.170907,
     "end_time": "2022-05-17T06:48:51.529722",
     "exception": false,
     "start_time": "2022-05-17T06:48:51.358815",
     "status": "completed"
    },
    "tags": []
   },
   "outputs": [
    {
     "data": {
      "image/png": "[encoded data removed]",
      "text/plain": [
       "<Figure size 576x432 with 1 Axes>"
      ]
     },
     "metadata": {},
     "output_type": "display_data"
    }
   ],
   "source": [
    "small = cars.loc[cars['DEALSIZE'] == 'Small'].count()[0]\n",
    "medium = cars.loc[cars['DEALSIZE'] == 'Medium'].count()[0]\n",
    "large = cars.loc[cars['DEALSIZE'] == 'Large'].count()[0]\n",
    "\n",
    "plt.style.use('ggplot')\n",
    "plt.figure(figsize=(8,6))\n",
    "labels = ['Small', 'Medium', 'Large']\n",
    "explode = [.01,.01,0.3]\n",
    "plt.pie([small, medium, large], explode=explode, autopct=('%.2f%%'), labels=labels, pctdistance=0.8)\n",
    "plt.title('PERCENTAGE OF DEAL SIZE')\n",
    "plt.show()"
   ]
  },
  {
   "cell_type": "markdown",
   "id": "c23d4897",
   "metadata": {
    "papermill": {
     "duration": 0.038008,
     "end_time": "2022-05-17T06:48:51.630615",
     "exception": false,
     "start_time": "2022-05-17T06:48:51.592607",
     "status": "completed"
    },
    "tags": []
   },
   "source": [
    "###### Pie chart shows MEDIUM and SMALL deals takes a larger number with correspondent percentage (49%, 45%) but large deals only takes 6%"
   ]
  },
  {
   "cell_type": "markdown",
   "id": "0fd386c7",
   "metadata": {
    "papermill": {
     "duration": 0.03397,
     "end_time": "2022-05-17T06:48:51.699212",
     "exception": false,
     "start_time": "2022-05-17T06:48:51.665242",
     "status": "completed"
    },
    "tags": []
   },
   "source": [
    "# "
   ]
  },
  {
   "cell_type": "markdown",
   "id": "cfe4f059",
   "metadata": {
    "papermill": {
     "duration": 0.034218,
     "end_time": "2022-05-17T06:48:51.769230",
     "exception": false,
     "start_time": "2022-05-17T06:48:51.735012",
     "status": "completed"
    },
    "tags": []
   },
   "source": [
    "## TASK 6: CHECK ORDER STATUS"
   ]
  },
  {
   "cell_type": "code",
   "execution_count": 12,
   "id": "4e4a7f65",
   "metadata": {
    "execution": {
     "iopub.execute_input": "2022-05-17T06:48:51.838368Z",
     "iopub.status.busy": "2022-05-17T06:48:51.838040Z",
     "iopub.status.idle": "2022-05-17T06:48:51.860307Z",
     "shell.execute_reply": "2022-05-17T06:48:51.859467Z"
    },
    "papermill": {
     "duration": 0.059206,
     "end_time": "2022-05-17T06:48:51.862315",
     "exception": false,
     "start_time": "2022-05-17T06:48:51.803109",
     "status": "completed"
    },
    "tags": []
   },
   "outputs": [
    {
     "data": {
      "text/html": [
       "<div>\n",
       "<style scoped>\n",
       "    .dataframe tbody tr th:only-of-type {\n",
       "        vertical-align: middle;\n",
       "    }\n",
       "\n",
       "    .dataframe tbody tr th {\n",
       "        vertical-align: top;\n",
       "    }\n",
       "\n",
       "    .dataframe thead th {\n",
       "        text-align: right;\n",
       "    }\n",
       "</style>\n",
       "<table border=\"1\" class=\"dataframe\">\n",
       "  <thead>\n",
       "    <tr style=\"text-align: right;\">\n",
       "      <th></th>\n",
       "      <th>ORDERNUMBER</th>\n",
       "      <th>QUANTITYORDERED</th>\n",
       "      <th>PRICEEACH</th>\n",
       "      <th>ORDERLINENUMBER</th>\n",
       "      <th>SALES</th>\n",
       "      <th>ORDERDATE</th>\n",
       "      <th>STATUS</th>\n",
       "      <th>QTR_ID</th>\n",
       "      <th>MONTH_ID</th>\n",
       "      <th>YEAR_ID</th>\n",
       "      <th>...</th>\n",
       "      <th>ADDRESSLINE1</th>\n",
       "      <th>ADDRESSLINE2</th>\n",
       "      <th>CITY</th>\n",
       "      <th>STATE</th>\n",
       "      <th>POSTALCODE</th>\n",
       "      <th>COUNTRY</th>\n",
       "      <th>TERRITORY</th>\n",
       "      <th>CONTACTLASTNAME</th>\n",
       "      <th>CONTACTFIRSTNAME</th>\n",
       "      <th>DEALSIZE</th>\n",
       "    </tr>\n",
       "  </thead>\n",
       "  <tbody>\n",
       "    <tr>\n",
       "      <th>0</th>\n",
       "      <td>10107</td>\n",
       "      <td>30</td>\n",
       "      <td>95.70</td>\n",
       "      <td>2</td>\n",
       "      <td>2871.0</td>\n",
       "      <td>2/24/2003 0:00</td>\n",
       "      <td>Shipped</td>\n",
       "      <td>1</td>\n",
       "      <td>2</td>\n",
       "      <td>2003</td>\n",
       "      <td>...</td>\n",
       "      <td>897 Long Airport Avenue</td>\n",
       "      <td>NaN</td>\n",
       "      <td>NYC</td>\n",
       "      <td>NY</td>\n",
       "      <td>10022</td>\n",
       "      <td>USA</td>\n",
       "      <td>NaN</td>\n",
       "      <td>Yu</td>\n",
       "      <td>Kwai</td>\n",
       "      <td>Small</td>\n",
       "    </tr>\n",
       "    <tr>\n",
       "      <th>1</th>\n",
       "      <td>10121</td>\n",
       "      <td>34</td>\n",
       "      <td>81.35</td>\n",
       "      <td>5</td>\n",
       "      <td>2765.9</td>\n",
       "      <td>5/7/2003 0:00</td>\n",
       "      <td>Shipped</td>\n",
       "      <td>2</td>\n",
       "      <td>5</td>\n",
       "      <td>2003</td>\n",
       "      <td>...</td>\n",
       "      <td>59 rue de l'Abbaye</td>\n",
       "      <td>NaN</td>\n",
       "      <td>Reims</td>\n",
       "      <td>NaN</td>\n",
       "      <td>51100</td>\n",
       "      <td>France</td>\n",
       "      <td>EMEA</td>\n",
       "      <td>Henriot</td>\n",
       "      <td>Paul</td>\n",
       "      <td>Small</td>\n",
       "    </tr>\n",
       "  </tbody>\n",
       "</table>\n",
       "<p>2 rows × 25 columns</p>\n",
       "</div>"
      ],
      "text/plain": [
       "   ORDERNUMBER  QUANTITYORDERED  PRICEEACH  ORDERLINENUMBER   SALES  \\\n",
       "0        10107               30      95.70                2  2871.0   \n",
       "1        10121               34      81.35                5  2765.9   \n",
       "\n",
       "        ORDERDATE   STATUS  QTR_ID  MONTH_ID  YEAR_ID  ...  \\\n",
       "0  2/24/2003 0:00  Shipped       1         2     2003  ...   \n",
       "1   5/7/2003 0:00  Shipped       2         5     2003  ...   \n",
       "\n",
       "              ADDRESSLINE1  ADDRESSLINE2   CITY STATE POSTALCODE COUNTRY  \\\n",
       "0  897 Long Airport Avenue           NaN    NYC    NY      10022     USA   \n",
       "1       59 rue de l'Abbaye           NaN  Reims   NaN      51100  France   \n",
       "\n",
       "  TERRITORY CONTACTLASTNAME CONTACTFIRSTNAME DEALSIZE  \n",
       "0       NaN              Yu             Kwai    Small  \n",
       "1      EMEA         Henriot             Paul    Small  \n",
       "\n",
       "[2 rows x 25 columns]"
      ]
     },
     "execution_count": 12,
     "metadata": {},
     "output_type": "execute_result"
    }
   ],
   "source": [
    "cars.head(2)"
   ]
  },
  {
   "cell_type": "code",
   "execution_count": 13,
   "id": "b8ea6061",
   "metadata": {
    "execution": {
     "iopub.execute_input": "2022-05-17T06:48:51.934932Z",
     "iopub.status.busy": "2022-05-17T06:48:51.934329Z",
     "iopub.status.idle": "2022-05-17T06:48:52.223823Z",
     "shell.execute_reply": "2022-05-17T06:48:52.222594Z"
    },
    "papermill": {
     "duration": 0.330171,
     "end_time": "2022-05-17T06:48:52.226991",
     "exception": false,
     "start_time": "2022-05-17T06:48:51.896820",
     "status": "completed"
    },
    "tags": []
   },
   "outputs": [
    {
     "data": {
      "image/png": "[encoded data removed]",
      "text/plain": [
       "<Figure size 576x432 with 1 Axes>"
      ]
     },
     "metadata": {},
     "output_type": "display_data"
    }
   ],
   "source": [
    "shipped = cars.loc[cars['STATUS'] == 'Shipped'].count()[0]\n",
    "process = cars.loc[cars['STATUS'] == 'In Process'].count()[0]\n",
    "cancel = cars.loc[cars['STATUS'] == 'Cancelled'].count()[0]\n",
    "resolve = cars.loc[cars['STATUS'] == 'Resolved'].count()[0]\n",
    "hold = cars.loc[cars['STATUS'] == 'On Hold'].count()[0]\n",
    "dispute = cars.loc[cars['STATUS'] == 'Disputed'].count()[0]\n",
    "\n",
    "status = [shipped, process, cancel, resolve, hold, dispute]\n",
    "\n",
    "plt.style.use('ggplot')\n",
    "plt.figure(figsize=(8,6))\n",
    "labels = ['Shipped', 'In Process', 'Cancelled', 'Resolved', 'On Hold', 'Disputed']\n",
    "explode = [.1,.3,.1,.2,.1,.4]\n",
    "plt.legend(labels)\n",
    "plt.pie(status, autopct=('%.2f%%'), labels=labels, explode=explode,  pctdistance=0.8)\n",
    "\n",
    "plt.show()\n",
    "\n"
   ]
  },
  {
   "cell_type": "markdown",
   "id": "c16a0e9b",
   "metadata": {
    "papermill": {
     "duration": 0.036216,
     "end_time": "2022-05-17T06:48:52.306820",
     "exception": false,
     "start_time": "2022-05-17T06:48:52.270604",
     "status": "completed"
    },
    "tags": []
   },
   "source": [
    "###### The SHIPPED orders took great percentage which shows good dedication and service from the company."
   ]
  }
 ],
 "metadata": {
  "kernelspec": {
   "display_name": "Python 3",
   "language": "python",
   "name": "python3"
  },
  "language_info": {
   "codemirror_mode": {
    "name": "ipython",
    "version": 3
   },
   "file_extension": ".py",
   "mimetype": "text/x-python",
   "name": "python",
   "nbconvert_exporter": "python",
   "pygments_lexer": "ipython3",
   "version": "3.7.12"
  },
  "papermill": {
   "default_parameters": {},
   "duration": 14.926598,
   "end_time": "2022-05-17T06:48:53.063427",
   "environment_variables": {},
   "exception": null,
   "input_path": "__notebook__.ipynb",
   "output_path": "__notebook__.ipynb",
   "parameters": {},
   "start_time": "2022-05-17T06:48:38.136829",
   "version": "2.3.4"
  }
 },
 "nbformat": 4,
 "nbformat_minor": 5
}
